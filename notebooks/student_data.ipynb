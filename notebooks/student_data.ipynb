{
 "cells": [
  {
   "cell_type": "markdown",
   "id": "0543fd8d",
   "metadata": {},
   "source": [
    "# Student Data\n",
    "This notebook analyizes pass / fail data for a class"
   ]
  },
  {
   "cell_type": "code",
   "execution_count": 1,
   "id": "ad5e7f2e",
   "metadata": {},
   "outputs": [],
   "source": [
    "#grades for 12 students\n",
    "data = [50, 55, 68, 98, 3, 24, 85, 91, 93, 45, 72, 88]"
   ]
  },
  {
   "cell_type": "code",
   "execution_count": 2,
   "id": "63e9d9fa",
   "metadata": {},
   "outputs": [
    {
     "name": "stdout",
     "output_type": "stream",
     "text": [
      "[50 55 68 98  3 24 85 91 93 45 72 88]\n"
     ]
    }
   ],
   "source": [
    "#import numpy to create array\n",
    "import numpy as np\n",
    "\n",
    "grades = np.array(data)\n",
    "print(grades)\n"
   ]
  },
  {
   "cell_type": "code",
   "execution_count": 3,
   "id": "88650492",
   "metadata": {},
   "outputs": [
    {
     "data": {
      "text/plain": [
       "(12,)"
      ]
     },
     "execution_count": 3,
     "metadata": {},
     "output_type": "execute_result"
    }
   ],
   "source": [
    "#show the shape of the array\n",
    "grades.shape"
   ]
  },
  {
   "cell_type": "code",
   "execution_count": 4,
   "id": "2592e254",
   "metadata": {},
   "outputs": [
    {
     "data": {
      "text/plain": [
       "np.int64(45)"
      ]
     },
     "execution_count": 4,
     "metadata": {},
     "output_type": "execute_result"
    }
   ],
   "source": [
    "#show the 9th value in the array\n",
    "grades[9]"
   ]
  },
  {
   "cell_type": "code",
   "execution_count": 5,
   "id": "417e3a99",
   "metadata": {},
   "outputs": [
    {
     "data": {
      "text/plain": [
       "np.float64(64.33333333333333)"
      ]
     },
     "execution_count": 5,
     "metadata": {},
     "output_type": "execute_result"
    }
   ],
   "source": [
    "#show the mean of the array\n",
    "grades.mean()\n"
   ]
  },
  {
   "cell_type": "code",
   "execution_count": 6,
   "id": "4e996c3a",
   "metadata": {},
   "outputs": [],
   "source": [
    "#determine hours studied for 12 students, creat array with 2 arrays inside\n",
    "study_hours = [11, 2, 4, 6, 20, 1, 15, 3, 7, 11, 6, 8]\n",
    "\n",
    "student_data = np.array([study_hours, grades])"
   ]
  },
  {
   "cell_type": "code",
   "execution_count": 7,
   "id": "f2170b3f",
   "metadata": {},
   "outputs": [
    {
     "name": "stdout",
     "output_type": "stream",
     "text": [
      "Avg Study Time: 7.833333333333333\n",
      "Avg Grade: 64.33333333333333\n"
     ]
    }
   ],
   "source": [
    "#calculate mean of study time and grades\n",
    "avg_study = student_data[0].mean()\n",
    "avg_grade = student_data[1].mean()\n",
    "\n",
    "print(f'Avg Study Time: {avg_study}\\nAvg Grade: {avg_grade}')"
   ]
  },
  {
   "cell_type": "code",
   "execution_count": 8,
   "id": "d172f1bd",
   "metadata": {},
   "outputs": [],
   "source": [
    "#import pandas\n",
    "import pandas as pd"
   ]
  },
  {
   "cell_type": "code",
   "execution_count": 9,
   "id": "e79bc619",
   "metadata": {},
   "outputs": [
    {
     "data": {
      "application/vnd.microsoft.datawrangler.viewer.v0+json": {
       "columns": [
        {
         "name": "index",
         "rawType": "int64",
         "type": "integer"
        },
        {
         "name": "Name",
         "rawType": "object",
         "type": "string"
        },
        {
         "name": "StudyHours",
         "rawType": "int64",
         "type": "integer"
        },
        {
         "name": "Grade",
         "rawType": "int64",
         "type": "integer"
        }
       ],
       "ref": "4feed420-ac80-4eef-96b7-91b7c3a923ec",
       "rows": [
        [
         "0",
         "Mike",
         "11",
         "50"
        ],
        [
         "1",
         "Dan",
         "2",
         "55"
        ],
        [
         "2",
         "Jim",
         "4",
         "68"
        ],
        [
         "3",
         "Melissa",
         "6",
         "98"
        ],
        [
         "4",
         "Brad",
         "20",
         "3"
        ],
        [
         "5",
         "Tia",
         "1",
         "24"
        ],
        [
         "6",
         "Chad",
         "15",
         "85"
        ],
        [
         "7",
         "Colin",
         "3",
         "91"
        ],
        [
         "8",
         "Melody",
         "7",
         "93"
        ],
        [
         "9",
         "Kim",
         "11",
         "45"
        ],
        [
         "10",
         "Tina",
         "6",
         "72"
        ],
        [
         "11",
         "Gladys",
         "8",
         "88"
        ]
       ],
       "shape": {
        "columns": 3,
        "rows": 12
       }
      },
      "text/html": [
       "<div>\n",
       "<style scoped>\n",
       "    .dataframe tbody tr th:only-of-type {\n",
       "        vertical-align: middle;\n",
       "    }\n",
       "\n",
       "    .dataframe tbody tr th {\n",
       "        vertical-align: top;\n",
       "    }\n",
       "\n",
       "    .dataframe thead th {\n",
       "        text-align: right;\n",
       "    }\n",
       "</style>\n",
       "<table border=\"1\" class=\"dataframe\">\n",
       "  <thead>\n",
       "    <tr style=\"text-align: right;\">\n",
       "      <th></th>\n",
       "      <th>Name</th>\n",
       "      <th>StudyHours</th>\n",
       "      <th>Grade</th>\n",
       "    </tr>\n",
       "  </thead>\n",
       "  <tbody>\n",
       "    <tr>\n",
       "      <th>0</th>\n",
       "      <td>Mike</td>\n",
       "      <td>11</td>\n",
       "      <td>50</td>\n",
       "    </tr>\n",
       "    <tr>\n",
       "      <th>1</th>\n",
       "      <td>Dan</td>\n",
       "      <td>2</td>\n",
       "      <td>55</td>\n",
       "    </tr>\n",
       "    <tr>\n",
       "      <th>2</th>\n",
       "      <td>Jim</td>\n",
       "      <td>4</td>\n",
       "      <td>68</td>\n",
       "    </tr>\n",
       "    <tr>\n",
       "      <th>3</th>\n",
       "      <td>Melissa</td>\n",
       "      <td>6</td>\n",
       "      <td>98</td>\n",
       "    </tr>\n",
       "    <tr>\n",
       "      <th>4</th>\n",
       "      <td>Brad</td>\n",
       "      <td>20</td>\n",
       "      <td>3</td>\n",
       "    </tr>\n",
       "    <tr>\n",
       "      <th>5</th>\n",
       "      <td>Tia</td>\n",
       "      <td>1</td>\n",
       "      <td>24</td>\n",
       "    </tr>\n",
       "    <tr>\n",
       "      <th>6</th>\n",
       "      <td>Chad</td>\n",
       "      <td>15</td>\n",
       "      <td>85</td>\n",
       "    </tr>\n",
       "    <tr>\n",
       "      <th>7</th>\n",
       "      <td>Colin</td>\n",
       "      <td>3</td>\n",
       "      <td>91</td>\n",
       "    </tr>\n",
       "    <tr>\n",
       "      <th>8</th>\n",
       "      <td>Melody</td>\n",
       "      <td>7</td>\n",
       "      <td>93</td>\n",
       "    </tr>\n",
       "    <tr>\n",
       "      <th>9</th>\n",
       "      <td>Kim</td>\n",
       "      <td>11</td>\n",
       "      <td>45</td>\n",
       "    </tr>\n",
       "    <tr>\n",
       "      <th>10</th>\n",
       "      <td>Tina</td>\n",
       "      <td>6</td>\n",
       "      <td>72</td>\n",
       "    </tr>\n",
       "    <tr>\n",
       "      <th>11</th>\n",
       "      <td>Gladys</td>\n",
       "      <td>8</td>\n",
       "      <td>88</td>\n",
       "    </tr>\n",
       "  </tbody>\n",
       "</table>\n",
       "</div>"
      ],
      "text/plain": [
       "       Name  StudyHours  Grade\n",
       "0      Mike          11     50\n",
       "1       Dan           2     55\n",
       "2       Jim           4     68\n",
       "3   Melissa           6     98\n",
       "4      Brad          20      3\n",
       "5       Tia           1     24\n",
       "6      Chad          15     85\n",
       "7     Colin           3     91\n",
       "8    Melody           7     93\n",
       "9       Kim          11     45\n",
       "10     Tina           6     72\n",
       "11   Gladys           8     88"
      ]
     },
     "execution_count": 9,
     "metadata": {},
     "output_type": "execute_result"
    }
   ],
   "source": [
    "#create data frame for pandas\n",
    "df_students = pd.DataFrame({'Name': ['Mike', 'Dan', 'Jim', 'Melissa', 'Brad', 'Tia', 'Chad', 'Colin', 'Melody', 'Kim', 'Tina', 'Gladys'],\n",
    "                            'StudyHours': student_data[0],\n",
    "                            'Grade': student_data[1]})\n",
    "\n",
    "df_students"
   ]
  },
  {
   "cell_type": "code",
   "execution_count": null,
   "id": "a730b7e3",
   "metadata": {},
   "outputs": [],
   "source": []
  },
  {
   "cell_type": "code",
   "execution_count": 10,
   "id": "122c731e",
   "metadata": {},
   "outputs": [
    {
     "data": {
      "application/vnd.microsoft.datawrangler.viewer.v0+json": {
       "columns": [
        {
         "name": "index",
         "rawType": "object",
         "type": "string"
        },
        {
         "name": "7",
         "rawType": "object",
         "type": "unknown"
        }
       ],
       "ref": "42eec569-a5ab-46b7-9c98-33980d2f1a9f",
       "rows": [
        [
         "Name",
         "Colin"
        ],
        [
         "StudyHours",
         "3"
        ],
        [
         "Grade",
         "91"
        ]
       ],
       "shape": {
        "columns": 1,
        "rows": 3
       }
      },
      "text/plain": [
       "Name          Colin\n",
       "StudyHours        3\n",
       "Grade            91\n",
       "Name: 7, dtype: object"
      ]
     },
     "execution_count": 10,
     "metadata": {},
     "output_type": "execute_result"
    }
   ],
   "source": [
    "#choose first record information\n",
    "df_students.loc[7]\n"
   ]
  },
  {
   "cell_type": "code",
   "execution_count": 11,
   "id": "9d6c5e8e",
   "metadata": {},
   "outputs": [
    {
     "data": {
      "application/vnd.microsoft.datawrangler.viewer.v0+json": {
       "columns": [
        {
         "name": "index",
         "rawType": "int64",
         "type": "integer"
        },
        {
         "name": "Name",
         "rawType": "object",
         "type": "string"
        },
        {
         "name": "StudyHours",
         "rawType": "int64",
         "type": "integer"
        },
        {
         "name": "Grade",
         "rawType": "int64",
         "type": "integer"
        }
       ],
       "ref": "7117f48d-6119-467f-b809-93738b3c415c",
       "rows": [
        [
         "5",
         "Tia",
         "1",
         "24"
        ]
       ],
       "shape": {
        "columns": 3,
        "rows": 1
       }
      },
      "text/html": [
       "<div>\n",
       "<style scoped>\n",
       "    .dataframe tbody tr th:only-of-type {\n",
       "        vertical-align: middle;\n",
       "    }\n",
       "\n",
       "    .dataframe tbody tr th {\n",
       "        vertical-align: top;\n",
       "    }\n",
       "\n",
       "    .dataframe thead th {\n",
       "        text-align: right;\n",
       "    }\n",
       "</style>\n",
       "<table border=\"1\" class=\"dataframe\">\n",
       "  <thead>\n",
       "    <tr style=\"text-align: right;\">\n",
       "      <th></th>\n",
       "      <th>Name</th>\n",
       "      <th>StudyHours</th>\n",
       "      <th>Grade</th>\n",
       "    </tr>\n",
       "  </thead>\n",
       "  <tbody>\n",
       "    <tr>\n",
       "      <th>5</th>\n",
       "      <td>Tia</td>\n",
       "      <td>1</td>\n",
       "      <td>24</td>\n",
       "    </tr>\n",
       "  </tbody>\n",
       "</table>\n",
       "</div>"
      ],
      "text/plain": [
       "  Name  StudyHours  Grade\n",
       "5  Tia           1     24"
      ]
     },
     "execution_count": 11,
     "metadata": {},
     "output_type": "execute_result"
    }
   ],
   "source": [
    "#query a record\n",
    "df_students.query('Name ==\"Tia\"')"
   ]
  },
  {
   "cell_type": "code",
   "execution_count": 12,
   "id": "7ebd2a3a",
   "metadata": {},
   "outputs": [
    {
     "data": {
      "application/vnd.microsoft.datawrangler.viewer.v0+json": {
       "columns": [
        {
         "name": "index",
         "rawType": "int64",
         "type": "integer"
        },
        {
         "name": "Name",
         "rawType": "object",
         "type": "string"
        },
        {
         "name": "StudyHours",
         "rawType": "int64",
         "type": "integer"
        },
        {
         "name": "Grade",
         "rawType": "int64",
         "type": "integer"
        }
       ],
       "ref": "76702449-6086-4aae-ad15-f0e83bf0ca90",
       "rows": [
        [
         "5",
         "Tia",
         "1",
         "24"
        ]
       ],
       "shape": {
        "columns": 3,
        "rows": 1
       }
      },
      "text/html": [
       "<div>\n",
       "<style scoped>\n",
       "    .dataframe tbody tr th:only-of-type {\n",
       "        vertical-align: middle;\n",
       "    }\n",
       "\n",
       "    .dataframe tbody tr th {\n",
       "        vertical-align: top;\n",
       "    }\n",
       "\n",
       "    .dataframe thead th {\n",
       "        text-align: right;\n",
       "    }\n",
       "</style>\n",
       "<table border=\"1\" class=\"dataframe\">\n",
       "  <thead>\n",
       "    <tr style=\"text-align: right;\">\n",
       "      <th></th>\n",
       "      <th>Name</th>\n",
       "      <th>StudyHours</th>\n",
       "      <th>Grade</th>\n",
       "    </tr>\n",
       "  </thead>\n",
       "  <tbody>\n",
       "    <tr>\n",
       "      <th>5</th>\n",
       "      <td>Tia</td>\n",
       "      <td>1</td>\n",
       "      <td>24</td>\n",
       "    </tr>\n",
       "  </tbody>\n",
       "</table>\n",
       "</div>"
      ],
      "text/plain": [
       "  Name  StudyHours  Grade\n",
       "5  Tia           1     24"
      ]
     },
     "execution_count": 12,
     "metadata": {},
     "output_type": "execute_result"
    }
   ],
   "source": [
    "#additional method to get record\n",
    "df_students[df_students.Name=='Tia']\n"
   ]
  },
  {
   "cell_type": "markdown",
   "id": "83aae459",
   "metadata": {},
   "source": [
    "## Import and explore dataset"
   ]
  }
 ],
 "metadata": {
  "kernelspec": {
   "display_name": "base",
   "language": "python",
   "name": "python3"
  },
  "language_info": {
   "codemirror_mode": {
    "name": "ipython",
    "version": 3
   },
   "file_extension": ".py",
   "mimetype": "text/x-python",
   "name": "python",
   "nbconvert_exporter": "python",
   "pygments_lexer": "ipython3",
   "version": "3.13.5"
  }
 },
 "nbformat": 4,
 "nbformat_minor": 5
}
