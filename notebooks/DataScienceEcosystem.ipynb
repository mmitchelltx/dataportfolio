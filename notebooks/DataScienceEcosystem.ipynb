{
 "cells": [
  {
   "cell_type": "markdown",
   "id": "8faf55f4-0c16-40bd-a61b-06a4a99d6b7c",
   "metadata": {},
   "source": [
    "# Data Science Tools and Ecosystem"
   ]
  },
  {
   "cell_type": "markdown",
   "id": "e3b5054c-e68e-424c-ba08-0d6d9ba0b8bd",
   "metadata": {},
   "source": [
    "## Author\n",
    "Marcus Mitchell"
   ]
  },
  {
   "cell_type": "markdown",
   "id": "7397831a-91ee-4f46-bdc2-ee584e147f7a",
   "metadata": {},
   "source": [
    "## In this notebook, Data Science Tools and Ecosystem are summarized."
   ]
  },
  {
   "cell_type": "markdown",
   "id": "30b4120b-d093-4cd4-b26c-6801e87da669",
   "metadata": {},
   "source": [
    "### **Objectives:**\n",
    "- List popular languages\n",
    "- List common libraries\n",
    "- Create markdown cells\n"
   ]
  },
  {
   "cell_type": "markdown",
   "id": "6f9c936e-8f24-4c58-9b9b-24b78ddd6bb2",
   "metadata": {},
   "source": [
    "### Some of the popular languages that Data Scientists use are:\n",
    "1. Python\n",
    "2. SQL\n",
    "3. R"
   ]
  },
  {
   "cell_type": "markdown",
   "id": "88e6e4b5-fdf8-47aa-98bc-0258c52fae04",
   "metadata": {},
   "source": [
    "### Some of the commonly used libraries used by Data Scientists include: \n",
    "#### 1. Pandas\n",
    "#### 2. Matplotlib\n",
    "#### 3. Seaborn\n",
    "#### 4. ggplot"
   ]
  },
  {
   "cell_type": "markdown",
   "id": "6530d998-54f8-476a-9d4f-440c9b5b78cc",
   "metadata": {},
   "source": [
    "| Data Science Tools |\n",
    "|-----------------|\n",
    "| Jupyter Notebooks |\n",
    "| R Studio |\n",
    "|Google Colab|\n"
   ]
  },
  {
   "cell_type": "markdown",
   "id": "9764959f-2006-4288-9a0a-f85998cece2b",
   "metadata": {},
   "source": [
    "### Below are a few examples of evaluating arithmetic expressions in Python"
   ]
  },
  {
   "cell_type": "code",
   "execution_count": 7,
   "id": "9516d06d-ab9d-4641-be20-b76d4298c89f",
   "metadata": {},
   "outputs": [
    {
     "data": {
      "text/plain": [
       "17"
      ]
     },
     "execution_count": 7,
     "metadata": {},
     "output_type": "execute_result"
    }
   ],
   "source": [
    "# this is a sample of and arithmetic expression to multiply then add integers\n",
    "\n",
    "(3*4)+5"
   ]
  },
  {
   "cell_type": "code",
   "execution_count": 8,
   "id": "fc91eabd-7d69-4ab6-93a2-650d0e4281bf",
   "metadata": {},
   "outputs": [
    {
     "data": {
      "text/plain": [
       "3.3333333333333335"
      ]
     },
     "execution_count": 8,
     "metadata": {},
     "output_type": "execute_result"
    }
   ],
   "source": [
    "# this will convert 200 minutes to hours by dividing by 60\n",
    "\n",
    "200/60"
   ]
  },
  {
   "cell_type": "markdown",
   "id": "5c52684f-a6cd-409e-b7f9-59071f628107",
   "metadata": {},
   "source": []
  }
 ],
 "metadata": {
  "kernelspec": {
   "display_name": "Python 3 (ipykernel)",
   "language": "python",
   "name": "python3"
  },
  "language_info": {
   "codemirror_mode": {
    "name": "ipython",
    "version": 3
   },
   "file_extension": ".py",
   "mimetype": "text/x-python",
   "name": "python",
   "nbconvert_exporter": "python",
   "pygments_lexer": "ipython3",
   "version": "3.12.5"
  }
 },
 "nbformat": 4,
 "nbformat_minor": 5
}
